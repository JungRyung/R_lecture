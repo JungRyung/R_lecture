{
 "cells": [
  {
   "cell_type": "code",
   "execution_count": 1,
   "metadata": {},
   "outputs": [],
   "source": [
    "# setwd(\"D:/development/R_lecture/Rdata\")\n",
    "setwd(\"/Users/ryung/Desktop/Development/R_lecture/Rdata\")"
   ]
  },
  {
   "cell_type": "code",
   "execution_count": 3,
   "metadata": {},
   "outputs": [
    {
     "data": {
      "text/html": [
       "<table>\n",
       "<caption>A data.frame: 6 × 4</caption>\n",
       "<thead>\n",
       "\t<tr><th></th><th scope=col>flushot</th><th scope=col>age</th><th scope=col>aware</th><th scope=col>gender</th></tr>\n",
       "\t<tr><th></th><th scope=col>&lt;int&gt;</th><th scope=col>&lt;int&gt;</th><th scope=col>&lt;int&gt;</th><th scope=col>&lt;int&gt;</th></tr>\n",
       "</thead>\n",
       "<tbody>\n",
       "\t<tr><th scope=row>1</th><td>0</td><td>59</td><td>52</td><td>0</td></tr>\n",
       "\t<tr><th scope=row>2</th><td>0</td><td>61</td><td>55</td><td>1</td></tr>\n",
       "\t<tr><th scope=row>3</th><td>1</td><td>82</td><td>51</td><td>0</td></tr>\n",
       "\t<tr><th scope=row>4</th><td>0</td><td>51</td><td>70</td><td>0</td></tr>\n",
       "\t<tr><th scope=row>5</th><td>0</td><td>53</td><td>70</td><td>0</td></tr>\n",
       "\t<tr><th scope=row>6</th><td>0</td><td>62</td><td>49</td><td>1</td></tr>\n",
       "</tbody>\n",
       "</table>\n"
      ],
      "text/latex": [
       "A data.frame: 6 × 4\n",
       "\\begin{tabular}{r|llll}\n",
       "  & flushot & age & aware & gender\\\\\n",
       "  & <int> & <int> & <int> & <int>\\\\\n",
       "\\hline\n",
       "\t1 & 0 & 59 & 52 & 0\\\\\n",
       "\t2 & 0 & 61 & 55 & 1\\\\\n",
       "\t3 & 1 & 82 & 51 & 0\\\\\n",
       "\t4 & 0 & 51 & 70 & 0\\\\\n",
       "\t5 & 0 & 53 & 70 & 0\\\\\n",
       "\t6 & 0 & 62 & 49 & 1\\\\\n",
       "\\end{tabular}\n"
      ],
      "text/markdown": [
       "\n",
       "A data.frame: 6 × 4\n",
       "\n",
       "| <!--/--> | flushot &lt;int&gt; | age &lt;int&gt; | aware &lt;int&gt; | gender &lt;int&gt; |\n",
       "|---|---|---|---|---|\n",
       "| 1 | 0 | 59 | 52 | 0 |\n",
       "| 2 | 0 | 61 | 55 | 1 |\n",
       "| 3 | 1 | 82 | 51 | 0 |\n",
       "| 4 | 0 | 51 | 70 | 0 |\n",
       "| 5 | 0 | 53 | 70 | 0 |\n",
       "| 6 | 0 | 62 | 49 | 1 |\n",
       "\n"
      ],
      "text/plain": [
       "  flushot age aware gender\n",
       "1 0       59  52    0     \n",
       "2 0       61  55    1     \n",
       "3 1       82  51    0     \n",
       "4 0       51  70    0     \n",
       "5 0       53  70    0     \n",
       "6 0       62  49    1     "
      ]
     },
     "metadata": {},
     "output_type": "display_data"
    }
   ],
   "source": [
    "data = read.csv(\"flushot.csv\")\n",
    "head(data)"
   ]
  },
  {
   "cell_type": "markdown",
   "metadata": {},
   "source": [
    "### 1. 주어진 세 개의 설명변수로 예방접종 확률을 예측하는 모형을 추정하여 추정된 로지스틱 회귀식을 써라"
   ]
  },
  {
   "cell_type": "code",
   "execution_count": 5,
   "metadata": {},
   "outputs": [
    {
     "data": {
      "text/plain": [
       "\n",
       "Call:\n",
       "glm(formula = flushot ~ ., family = binomial(logit), data = data)\n",
       "\n",
       "Deviance Residuals: \n",
       "    Min       1Q   Median       3Q      Max  \n",
       "-1.4037  -0.5637  -0.3352  -0.1542   2.9394  \n",
       "\n",
       "Coefficients:\n",
       "            Estimate Std. Error z value Pr(>|z|)   \n",
       "(Intercept) -1.17716    2.98242  -0.395  0.69307   \n",
       "age          0.07279    0.03038   2.396  0.01658 * \n",
       "aware       -0.09899    0.03348  -2.957  0.00311 **\n",
       "gender       0.43397    0.52179   0.832  0.40558   \n",
       "---\n",
       "Signif. codes:  0 ‘***’ 0.001 ‘**’ 0.01 ‘*’ 0.05 ‘.’ 0.1 ‘ ’ 1\n",
       "\n",
       "(Dispersion parameter for binomial family taken to be 1)\n",
       "\n",
       "    Null deviance: 134.94  on 158  degrees of freedom\n",
       "Residual deviance: 105.09  on 155  degrees of freedom\n",
       "AIC: 113.09\n",
       "\n",
       "Number of Fisher Scoring iterations: 6\n"
      ]
     },
     "metadata": {},
     "output_type": "display_data"
    }
   ],
   "source": [
    "log_model = glm(flushot~., data=data, family=binomial(logit))\n",
    "summary(log_model)"
   ]
  },
  {
   "cell_type": "markdown",
   "metadata": {},
   "source": [
    "### 2. Exp를 해석하라."
   ]
  },
  {
   "cell_type": "code",
   "execution_count": 6,
   "metadata": {},
   "outputs": [
    {
     "data": {
      "text/html": [
       "1.07550465722015"
      ],
      "text/latex": [
       "1.07550465722015"
      ],
      "text/markdown": [
       "1.07550465722015"
      ],
      "text/plain": [
       "[1] 1.075505"
      ]
     },
     "metadata": {},
     "output_type": "display_data"
    },
    {
     "data": {
      "text/html": [
       "0.905751765495916"
      ],
      "text/latex": [
       "0.905751765495916"
      ],
      "text/markdown": [
       "0.905751765495916"
      ],
      "text/plain": [
       "[1] 0.9057518"
      ]
     },
     "metadata": {},
     "output_type": "display_data"
    },
    {
     "data": {
      "text/html": [
       "1.54337256624498"
      ],
      "text/latex": [
       "1.54337256624498"
      ],
      "text/markdown": [
       "1.54337256624498"
      ],
      "text/plain": [
       "[1] 1.543373"
      ]
     },
     "metadata": {},
     "output_type": "display_data"
    }
   ],
   "source": [
    "exp(0.07279)\n",
    "exp(-0.09899)\n",
    "exp(0.43397)"
   ]
  },
  {
   "cell_type": "markdown",
   "metadata": {},
   "source": [
    "### 4. 유의하지 않은 설명변수가 있는지 Deviance goodness-of-fit test를 통해 판단하여 최종모형을 추정하라."
   ]
  },
  {
   "cell_type": "code",
   "execution_count": 8,
   "metadata": {},
   "outputs": [
    {
     "data": {
      "text/plain": [
       "\n",
       "Call:\n",
       "glm(formula = flushot ~ age + aware, family = binomial(), data = data)\n",
       "\n",
       "Deviance Residuals: \n",
       "    Min       1Q   Median       3Q      Max  \n",
       "-1.4479  -0.5708  -0.3390  -0.1629   2.8430  \n",
       "\n",
       "Coefficients:\n",
       "            Estimate Std. Error z value Pr(>|z|)   \n",
       "(Intercept) -1.45778    2.91534  -0.500  0.61705   \n",
       "age          0.07787    0.02970   2.622  0.00873 **\n",
       "aware       -0.09547    0.03241  -2.946  0.00322 **\n",
       "---\n",
       "Signif. codes:  0 ‘***’ 0.001 ‘**’ 0.01 ‘*’ 0.05 ‘.’ 0.1 ‘ ’ 1\n",
       "\n",
       "(Dispersion parameter for binomial family taken to be 1)\n",
       "\n",
       "    Null deviance: 134.94  on 158  degrees of freedom\n",
       "Residual deviance: 105.80  on 156  degrees of freedom\n",
       "AIC: 111.8\n",
       "\n",
       "Number of Fisher Scoring iterations: 6\n"
      ]
     },
     "metadata": {},
     "output_type": "display_data"
    }
   ],
   "source": [
    "log_model2 = glm(flushot~age+aware, data=data, family = binomial())\n",
    "summary(log_model2)"
   ]
  },
  {
   "cell_type": "code",
   "execution_count": 9,
   "metadata": {},
   "outputs": [
    {
     "data": {
      "text/plain": [
       "\n",
       "  0   1 \n",
       "135  24 "
      ]
     },
     "metadata": {},
     "output_type": "display_data"
    }
   ],
   "source": [
    "table(data$flushot)"
   ]
  },
  {
   "cell_type": "code",
   "execution_count": 10,
   "metadata": {},
   "outputs": [
    {
     "data": {
      "text/html": [
       "0.151898734177215"
      ],
      "text/latex": [
       "0.151898734177215"
      ],
      "text/markdown": [
       "0.151898734177215"
      ],
      "text/plain": [
       "[1] 0.1518987"
      ]
     },
     "metadata": {},
     "output_type": "display_data"
    }
   ],
   "source": [
    "24/(134+24)"
   ]
  },
  {
   "cell_type": "code",
   "execution_count": 12,
   "metadata": {},
   "outputs": [
    {
     "data": {
      "text/plain": [
       "   \n",
       "    FALSE TRUE\n",
       "  0    95   40\n",
       "  1     5   19"
      ]
     },
     "metadata": {},
     "output_type": "display_data"
    }
   ],
   "source": [
    "tt=table(data$flushot, log_model2$fitted.values>0.1518987)\n",
    "tt"
   ]
  },
  {
   "cell_type": "code",
   "execution_count": 13,
   "metadata": {},
   "outputs": [
    {
     "data": {
      "text/html": [
       "<style>\n",
       ".dl-inline {width: auto; margin:0; padding: 0}\n",
       ".dl-inline>dt, .dl-inline>dd {float: none; width: auto; display: inline-block}\n",
       ".dl-inline>dt::after {content: \":\\0020\"; padding-right: .5ex}\n",
       ".dl-inline>dt:not(:first-of-type) {padding-left: .5ex}\n",
       "</style><dl class=dl-inline><dt>민감도</dt><dd>0.791666666666667</dd><dt>특이도</dt><dd>0.703703703703704</dd><dt>에러율</dt><dd>0.283018867924528</dd></dl>\n"
      ],
      "text/latex": [
       "\\begin{description*}\n",
       "\\item[민감도] 0.791666666666667\n",
       "\\item[특이도] 0.703703703703704\n",
       "\\item[에러율] 0.283018867924528\n",
       "\\end{description*}\n"
      ],
      "text/markdown": [
       "민감도\n",
       ":   0.791666666666667특이도\n",
       ":   0.703703703703704에러율\n",
       ":   0.283018867924528\n",
       "\n"
      ],
      "text/plain": [
       "   민감도    특이도    에러율 \n",
       "0.7916667 0.7037037 0.2830189 "
      ]
     },
     "metadata": {},
     "output_type": "display_data"
    }
   ],
   "source": [
    "c('민감도'=19/(5+19), '특이도'=95/(95+40), '에러율'=45/sum(tt))"
   ]
  },
  {
   "cell_type": "code",
   "execution_count": 16,
   "metadata": {},
   "outputs": [
    {
     "name": "stdout",
     "output_type": "stream",
     "text": [
      "\n",
      "The downloaded binary packages are in\n",
      "\t/var/folders/kc/fklrdyt975g04wz_n20y24480000gn/T//RtmpMxgiAh/downloaded_packages\n"
     ]
    }
   ],
   "source": [
    "install.packages(\"Deducer\")"
   ]
  },
  {
   "cell_type": "code",
   "execution_count": 19,
   "metadata": {},
   "outputs": [],
   "source": [
    "library(Deducer)"
   ]
  },
  {
   "cell_type": "code",
   "execution_count": 20,
   "metadata": {},
   "outputs": [
    {
     "data": {
      "image/png": "[encoded data removed]",
      "text/plain": [
       "plot without title"
      ]
     },
     "metadata": {
      "image/png": {
       "height": 420,
       "width": 420
      }
     },
     "output_type": "display_data"
    }
   ],
   "source": [
    "rocplot(log_model2)"
   ]
  },
  {
   "cell_type": "markdown",
   "metadata": {},
   "source": [
    "### 7. cutoff를 0.1, 0.15, 0.2로 두었을 때의 총 error rate와 민감도, 특이도를 계산하라."
   ]
  },
  {
   "cell_type": "code",
   "execution_count": 22,
   "metadata": {},
   "outputs": [
    {
     "data": {
      "text/plain": [
       "   \n",
       "    FALSE TRUE\n",
       "  0    77   58\n",
       "  1     3   21"
      ]
     },
     "metadata": {},
     "output_type": "display_data"
    }
   ],
   "source": [
    "tab_01=table(data$flushot, log_model2$fitted.values>0.1)\n",
    "tab_01"
   ]
  },
  {
   "cell_type": "code",
   "execution_count": 24,
   "metadata": {},
   "outputs": [
    {
     "data": {
      "text/plain": [
       "   \n",
       "    FALSE TRUE\n",
       "  0    95   40\n",
       "  1     4   20"
      ]
     },
     "metadata": {},
     "output_type": "display_data"
    }
   ],
   "source": [
    "tab_015=table(data$flushot, log_model2$fitted.values>0.15)\n",
    "tab_015"
   ]
  },
  {
   "cell_type": "code",
   "execution_count": 25,
   "metadata": {},
   "outputs": [
    {
     "data": {
      "text/plain": [
       "   \n",
       "    FALSE TRUE\n",
       "  0   107   28\n",
       "  1    12   12"
      ]
     },
     "metadata": {},
     "output_type": "display_data"
    }
   ],
   "source": [
    "tab_02=table(data$flushot, log_model2$fitted.values>0.2)\n",
    "tab_02"
   ]
  },
  {
   "cell_type": "code",
   "execution_count": 29,
   "metadata": {},
   "outputs": [
    {
     "data": {
      "text/html": [
       "<style>\n",
       ".dl-inline {width: auto; margin:0; padding: 0}\n",
       ".dl-inline>dt, .dl-inline>dd {float: none; width: auto; display: inline-block}\n",
       ".dl-inline>dt::after {content: \":\\0020\"; padding-right: .5ex}\n",
       ".dl-inline>dt:not(:first-of-type) {padding-left: .5ex}\n",
       "</style><dl class=dl-inline><dt>민감도</dt><dd>0.875</dd><dt>특이도</dt><dd>0.57037037037037</dd><dt>에러율</dt><dd>0.383647798742138</dd></dl>\n"
      ],
      "text/latex": [
       "\\begin{description*}\n",
       "\\item[민감도] 0.875\n",
       "\\item[특이도] 0.57037037037037\n",
       "\\item[에러율] 0.383647798742138\n",
       "\\end{description*}\n"
      ],
      "text/markdown": [
       "민감도\n",
       ":   0.875특이도\n",
       ":   0.57037037037037에러율\n",
       ":   0.383647798742138\n",
       "\n"
      ],
      "text/plain": [
       "   민감도    특이도    에러율 \n",
       "0.8750000 0.5703704 0.3836478 "
      ]
     },
     "metadata": {},
     "output_type": "display_data"
    }
   ],
   "source": [
    "res01=c('민감도'=tab_01[2,2]/sum(tab_01[2,]),\n",
    "        '특이도'=tab_01[1,1]/sum(tab_01[1,]),\n",
    "        '에러율'=(tab_01[1,2]+tab_01[2,1])/sum(tab_01))\n",
    "res01"
   ]
  },
  {
   "cell_type": "code",
   "execution_count": 30,
   "metadata": {},
   "outputs": [
    {
     "data": {
      "text/html": [
       "<style>\n",
       ".dl-inline {width: auto; margin:0; padding: 0}\n",
       ".dl-inline>dt, .dl-inline>dd {float: none; width: auto; display: inline-block}\n",
       ".dl-inline>dt::after {content: \":\\0020\"; padding-right: .5ex}\n",
       ".dl-inline>dt:not(:first-of-type) {padding-left: .5ex}\n",
       "</style><dl class=dl-inline><dt>민감도</dt><dd>0.833333333333333</dd><dt>특이도</dt><dd>0.703703703703704</dd><dt>에러율</dt><dd>0.276729559748428</dd></dl>\n"
      ],
      "text/latex": [
       "\\begin{description*}\n",
       "\\item[민감도] 0.833333333333333\n",
       "\\item[특이도] 0.703703703703704\n",
       "\\item[에러율] 0.276729559748428\n",
       "\\end{description*}\n"
      ],
      "text/markdown": [
       "민감도\n",
       ":   0.833333333333333특이도\n",
       ":   0.703703703703704에러율\n",
       ":   0.276729559748428\n",
       "\n"
      ],
      "text/plain": [
       "   민감도    특이도    에러율 \n",
       "0.8333333 0.7037037 0.2767296 "
      ]
     },
     "metadata": {},
     "output_type": "display_data"
    }
   ],
   "source": [
    "res015=c('민감도'=tab_015[2,2]/sum(tab_015[2,]),\n",
    "         '특이도'=tab_015[1,1]/sum(tab_015[1,]),\n",
    "         '에러율'=(tab_015[1,2]+tab_015[2,1])/sum(tab_015))\n",
    "res015"
   ]
  },
  {
   "cell_type": "code",
   "execution_count": 31,
   "metadata": {},
   "outputs": [
    {
     "data": {
      "text/html": [
       "<style>\n",
       ".dl-inline {width: auto; margin:0; padding: 0}\n",
       ".dl-inline>dt, .dl-inline>dd {float: none; width: auto; display: inline-block}\n",
       ".dl-inline>dt::after {content: \":\\0020\"; padding-right: .5ex}\n",
       ".dl-inline>dt:not(:first-of-type) {padding-left: .5ex}\n",
       "</style><dl class=dl-inline><dt>민감도</dt><dd>0.5</dd><dt>특이도</dt><dd>0.792592592592593</dd><dt>에러율</dt><dd>0.251572327044025</dd></dl>\n"
      ],
      "text/latex": [
       "\\begin{description*}\n",
       "\\item[민감도] 0.5\n",
       "\\item[특이도] 0.792592592592593\n",
       "\\item[에러율] 0.251572327044025\n",
       "\\end{description*}\n"
      ],
      "text/markdown": [
       "민감도\n",
       ":   0.5특이도\n",
       ":   0.792592592592593에러율\n",
       ":   0.251572327044025\n",
       "\n"
      ],
      "text/plain": [
       "   민감도    특이도    에러율 \n",
       "0.5000000 0.7925926 0.2515723 "
      ]
     },
     "metadata": {},
     "output_type": "display_data"
    }
   ],
   "source": [
    "res02=c('민감도'=tab_02[2,2]/sum(tab_02[2,]),\n",
    "        '특이도'=tab_02[1,1]/sum(tab_02[1,]),\n",
    "        '에러율'=(tab_02[1,2]+tab_02[2,1])/sum(tab_02))\n",
    "res02 # cutoff이 0.2일 때 에러율이 가장 낮다"
   ]
  },
  {
   "cell_type": "code",
   "execution_count": null,
   "metadata": {},
   "outputs": [],
   "source": []
  }
 ],
 "metadata": {
  "kernelspec": {
   "display_name": "R",
   "language": "R",
   "name": "ir"
  },
  "language_info": {
   "codemirror_mode": "r",
   "file_extension": ".r",
   "mimetype": "text/x-r-source",
   "name": "R",
   "pygments_lexer": "r",
   "version": "4.0.2"
  }
 },
 "nbformat": 4,
 "nbformat_minor": 4
}
